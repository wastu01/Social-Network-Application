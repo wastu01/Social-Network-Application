{
 "cells": [
  {
   "cell_type": "code",
   "execution_count": 1,
   "metadata": {},
   "outputs": [
    {
     "name": "stdout",
     "output_type": "stream",
     "text": [
      "Hello world! Python & Jupyter & pipenv & jupyter in vscode\n"
     ]
    }
   ],
   "source": [
    "print(\"Hello world! Python & Jupyter & pipenv & jupyter in vscode\")"
   ]
  }
 ],
 "metadata": {
  "interpreter": {
   "hash": "d8285faf7807a3e6de7d6ff961a7620b58e94ae3da6c9c4bc66ca719e617c5bd"
  },
  "kernelspec": {
   "display_name": "Python 3.9.10 ('worldstock-MW14b1iW')",
   "language": "python",
   "name": "python3"
  },
  "language_info": {
   "codemirror_mode": {
    "name": "ipython",
    "version": 3
   },
   "file_extension": ".py",
   "mimetype": "text/x-python",
   "name": "python",
   "nbconvert_exporter": "python",
   "pygments_lexer": "ipython3",
   "version": "3.9.10"
  },
  "orig_nbformat": 4
 },
 "nbformat": 4,
 "nbformat_minor": 2
}
