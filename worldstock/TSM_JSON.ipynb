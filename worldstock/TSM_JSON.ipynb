{
 "cells": [
  {
   "cell_type": "code",
   "execution_count": 7,
   "metadata": {},
   "outputs": [
    {
     "name": "stdout",
     "output_type": "stream",
     "text": [
      "wa.01 stock search\n"
     ]
    }
   ],
   "source": [
    "print(\"wa.01 stock search\")"
   ]
  },
  {
   "cell_type": "code",
   "execution_count": 8,
   "metadata": {},
   "outputs": [
    {
     "name": "stdout",
     "output_type": "stream",
     "text": [
      "200\n",
      "<class 'requests.models.Response'>\n",
      "                       volume        high        open       close         low\n",
      "2021-03-05 14:30:00  17448700  121.300003  120.900002  120.800003  115.379997\n",
      "2021-03-08 14:30:00  17246900  121.000000  120.540001  113.930000  113.699997\n",
      "2021-03-09 14:30:00  17717100  118.400002  117.070000  116.379997  115.330002\n",
      "2021-03-10 14:30:00  15240300  118.029999  117.800003  113.830002  113.410004\n",
      "2021-03-11 14:30:00  15091600  120.800003  118.239998  120.580002  117.070000\n",
      "2021-03-12 14:30:00   8171000  119.000000  119.000000  118.300003  117.279999\n",
      "2021-03-15 13:30:00   8935000  119.110001  118.650002  119.080002  116.709999\n",
      "2021-03-16 13:30:00  10793400  121.250000  119.720001  119.349998  118.099998\n",
      "2021-03-17 13:30:00   9890400  119.519997  117.750000  118.760002  115.389999\n",
      "2021-03-18 13:30:00  10283800  118.330002  118.000000  114.500000  114.099998\n"
     ]
    }
   ],
   "source": [
    "# %load index.py\n",
    "import json\n",
    "import numpy\n",
    "import requests\n",
    "import pandas as pd\n",
    "\n",
    "headers = {\n",
    "    \"User-Agent\": \"Mozilla/5.0 (Macintosh; Intel Mac OS X 10_15_7) AppleWebKit/537.36 (KHTML, like Gecko) Chrome/98.0.4758.109 Safari/537.36\"\n",
    "}  \n",
    "\n",
    "time1=1614957713\n",
    "time2=1646493713\n",
    "stock=\"TSM\"\n",
    "market=\"NASDAQ\"\n",
    "url = f\"https://query1.finance.yahoo.com/v8/finance/chart/{stock}?period1={time1}&period2={time2}&interval=1d&events=history&=hP2rOschxO0\"\n",
    "\n",
    "\n",
    "# Time Period:Mar 05, 2021 - Mar 05, 2022\n",
    "# v7 是 csv , v8 是 json \n",
    "\n",
    "# TSM \n",
    "# https://query1.finance.yahoo.com/v7/finance/download/TSM?period1=1614957713&period2=1646493713&interval=1d&events=history&includeAdjustedClose=true\n",
    "\n",
    "response = requests.get(url,headers=headers)\n",
    "data = json.loads(response.text)\n",
    "# print(response.text)\n",
    "print(response.status_code)\n",
    "print(type(response))\n",
    "\n",
    "# DataFrame(資料,index=時間戳)\n",
    "# 去 postman 看該 json 資料結構\n",
    "df = pd.DataFrame(data[\"chart\"][\"result\"][0][\"indicators\"][\"quote\"][0],index=pd.to_datetime(\n",
    "        numpy.array(data[\"chart\"][\"result\"][0][\"timestamp\"]) * 1000 * 1000 * 1000))\n",
    "\n",
    "print(df[:10])\n",
    "# print(df.head())\n",
    "\n",
    "df.to_csv(f\"{stock}_210305220305.csv\")\n",
    "df.to_csv(f\"{stock}_{time1}_{time2}.csv\")"
   ]
  }
 ],
 "metadata": {
  "interpreter": {
   "hash": "607a1bd7d53077f46de9cb08f3e61518d3b03aec795364cf2d2db89454fa04aa"
  },
  "kernelspec": {
   "display_name": "Python 3.9.10 ('json--aFd316b')",
   "language": "python",
   "name": "python3"
  },
  "language_info": {
   "codemirror_mode": {
    "name": "ipython",
    "version": 3
   },
   "file_extension": ".py",
   "mimetype": "text/x-python",
   "name": "python",
   "nbconvert_exporter": "python",
   "pygments_lexer": "ipython3",
   "version": "3.9.10"
  },
  "orig_nbformat": 4
 },
 "nbformat": 4,
 "nbformat_minor": 2
}
