{
 "cells": [
  {
   "cell_type": "code",
   "execution_count": 1,
   "metadata": {},
   "outputs": [
    {
     "name": "stdout",
     "output_type": "stream",
     "text": [
      "Hello world! Python & Jupyter\n"
     ]
    }
   ],
   "source": [
    "print(\"Hello world! Python & Jupyter\")"
   ]
  },
  {
   "cell_type": "code",
   "execution_count": 3,
   "metadata": {},
   "outputs": [
    {
     "name": "stdout",
     "output_type": "stream",
     "text": [
      "200\n",
      "<class 'requests.models.Response'>\n",
      "                           open         low       close        high    volume\n",
      "2021-03-05 14:30:00  120.900002  115.379997  120.800003  121.300003  17448700\n",
      "2021-03-08 14:30:00  120.540001  113.699997  113.930000  121.000000  17246900\n",
      "2021-03-09 14:30:00  117.070000  115.330002  116.379997  118.400002  17717100\n",
      "2021-03-10 14:30:00  117.800003  113.410004  113.830002  118.029999  15240300\n",
      "2021-03-11 14:30:00  118.239998  117.070000  120.580002  120.800003  15091600\n",
      "2021-03-12 14:30:00  119.000000  117.279999  118.300003  119.000000   8171000\n",
      "2021-03-15 13:30:00  118.650002  116.709999  119.080002  119.110001   8935000\n",
      "2021-03-16 13:30:00  119.720001  118.099998  119.349998  121.250000  10793400\n",
      "2021-03-17 13:30:00  117.750000  115.389999  118.760002  119.519997   9890400\n",
      "2021-03-18 13:30:00  118.000000  114.099998  114.500000  118.330002  10283800\n"
     ]
    }
   ],
   "source": [
    "# %load index.py\n",
    "import json\n",
    "import numpy\n",
    "import requests\n",
    "import pandas as pd\n",
    "\n",
    "headers = {\n",
    "    \"User-Agent\": \"Mozilla/5.0 (Macintosh; Intel Mac OS X 10_15_7) AppleWebKit/537.36 (KHTML, like Gecko) Chrome/98.0.4758.109 Safari/537.36\"\n",
    "}  \n",
    "\n",
    "time1=1614957713\n",
    "time2=1646493713\n",
    "stock=\"TSM\"\n",
    "market=\"NASDAQ\"\n",
    "url = f\"https://query1.finance.yahoo.com/v8/finance/chart/TSM?period1={time1}&period2={time2}&interval=1d&events=history&=hP2rOschxO0\"\n",
    "\n",
    "\n",
    "# Time Period:Mar 05, 2021 - Mar 05, 2022\n",
    "# v7 csv , v8 json \n",
    "\n",
    "# TSM \n",
    "# https://query1.finance.yahoo.com/v7/finance/download/TSM?period1=1614957713&period2=1646493713&interval=1d&events=history&includeAdjustedClose=true\n",
    "\n",
    "response = requests.get(url,headers=headers)\n",
    "data = json.loads(response.text)\n",
    "# print(response.text)\n",
    "print(response.status_code)\n",
    "print(type(response))\n",
    "\n",
    "# DataFrame(資料,index=時間戳)\n",
    "# 去 postman 看該 json 資料結構\n",
    "df = pd.DataFrame(data[\"chart\"][\"result\"][0][\"indicators\"][\"quote\"][0],index=pd.to_datetime(\n",
    "        numpy.array(data[\"chart\"][\"result\"][0][\"timestamp\"]) * 1000 * 1000 * 1000))\n",
    "\n",
    "print(df[:10])\n",
    "# print(df.head())\n",
    "\n",
    "df.tail().to_csv(f\"{stock}_去年前五天.csv\")\n",
    "df.tail().to_csv(f\"{stock}_{time1}_{time2}.csv\")\n",
    "\n",
    "\n",
    "\n",
    "\n"
   ]
  }
 ],
 "metadata": {
  "interpreter": {
   "hash": "607a1bd7d53077f46de9cb08f3e61518d3b03aec795364cf2d2db89454fa04aa"
  },
  "kernelspec": {
   "display_name": "Python 3.9.10 ('json--aFd316b')",
   "language": "python",
   "name": "python3"
  },
  "language_info": {
   "codemirror_mode": {
    "name": "ipython",
    "version": 3
   },
   "file_extension": ".py",
   "mimetype": "text/x-python",
   "name": "python",
   "nbconvert_exporter": "python",
   "pygments_lexer": "ipython3",
   "version": "3.9.10"
  },
  "orig_nbformat": 4
 },
 "nbformat": 4,
 "nbformat_minor": 2
}
